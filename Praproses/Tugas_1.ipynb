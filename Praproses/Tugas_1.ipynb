{
 "cells": [
  {
   "cell_type": "markdown",
   "id": "c76d7ce1",
   "metadata": {},
   "source": [
    "## Kelompok 4\n",
    "1. Ardyn Rezky Fahreza (2103551)\n",
    "2. Muhammad Fikri Kafilli (2107264)\n",
    "3. Bayu Wicaksono (2106836)\n",
    "4. Muhammad Fadlan Ghafur (2106923)\n",
    "5. Talitha Syahla (2101330)"
   ]
  },
  {
   "cell_type": "markdown",
   "id": "67a84e32",
   "metadata": {},
   "source": [
    "## Praproses Data\n",
    "##### Memperbaiki nama atribut di tiap dataframe\n",
    "+ mengubah nama atribut menjadi lowercase\n",
    "+ mengubah \" \" dan \".\" menjadi \"_\"\n",
    "\n",
    "##### Mengubah datatype atribut\n",
    "+ mengubah datatype atribut gender menjadi category\n",
    "+ mengubah datatype atribut gol menjadi category dan mengurutkannya sesuai tingkatan\n",
    "+ mengubah datatype atribut sinta_3yr_score dan sinta_score menjadi float\n",
    "\n",
    "##### Transformasi data\n",
    "+ transformasi atribut gender, awalnya 1 dan 2 menjadi M dan F\n",
    "\n",
    "##### mengatasi data NaN dan data yang tidak masuk akal\n",
    "+ data atribut thn_lahir yang lebih dari 9000 dan kurang dari 1000, diisi dengan menggunakan atribut gol\n",
    "+ data atribut gol yang NaN diisi dengan menggunakan atribut jabatan_fungsional dan pendidikan_terakhir\n",
    "+ data atribut nama_prodi yang NaN diisi dengan \"Tidak diketahui\"\n",
    "+ pada dataframe sinta dosen, banyak data yang NaN sehingga solusi yang kami berikan adalah mengisinya dengan 0\n",
    "\n",
    "##### Melakukan drop pada atribut\n",
    "+ atribut affil_score dan affil_3yr_score di drop karena datanya hanya berisi 0"
   ]
  },
  {
   "cell_type": "code",
   "execution_count": 1,
   "id": "5311fa06",
   "metadata": {},
   "outputs": [],
   "source": [
    "%matplotlib inline\n",
    "import numpy as np\n",
    "import pandas as pd\n",
    "import matplotlib.pyplot as plt\n",
    "import seaborn as sns"
   ]
  },
  {
   "cell_type": "markdown",
   "id": "49dc9413",
   "metadata": {},
   "source": [
    "### Load dataset"
   ]
  },
  {
   "cell_type": "code",
   "execution_count": 2,
   "id": "84d79527",
   "metadata": {},
   "outputs": [
    {
     "data": {
      "text/html": [
       "<div>\n",
       "<style scoped>\n",
       "    .dataframe tbody tr th:only-of-type {\n",
       "        vertical-align: middle;\n",
       "    }\n",
       "\n",
       "    .dataframe tbody tr th {\n",
       "        vertical-align: top;\n",
       "    }\n",
       "\n",
       "    .dataframe thead th {\n",
       "        text-align: right;\n",
       "    }\n",
       "</style>\n",
       "<table border=\"1\" class=\"dataframe\">\n",
       "  <thead>\n",
       "    <tr style=\"text-align: right;\">\n",
       "      <th></th>\n",
       "      <th>kode_nama</th>\n",
       "      <th>scopus_h_index</th>\n",
       "      <th>googlescholar_h_index</th>\n",
       "      <th>sinta_3yr_score</th>\n",
       "      <th>sinta_score</th>\n",
       "      <th>affil_3yr_score</th>\n",
       "      <th>affil_score</th>\n",
       "    </tr>\n",
       "  </thead>\n",
       "  <tbody>\n",
       "    <tr>\n",
       "      <th>0</th>\n",
       "      <td>C0233C4F</td>\n",
       "      <td>3.0</td>\n",
       "      <td>10.0</td>\n",
       "      <td>223</td>\n",
       "      <td>443</td>\n",
       "      <td>0.0</td>\n",
       "      <td>0.0</td>\n",
       "    </tr>\n",
       "    <tr>\n",
       "      <th>1</th>\n",
       "      <td>036A27B5</td>\n",
       "      <td>3.0</td>\n",
       "      <td>27.0</td>\n",
       "      <td>399</td>\n",
       "      <td>703</td>\n",
       "      <td>0.0</td>\n",
       "      <td>0.0</td>\n",
       "    </tr>\n",
       "    <tr>\n",
       "      <th>2</th>\n",
       "      <td>E2B61FF1</td>\n",
       "      <td>0.0</td>\n",
       "      <td>11.0</td>\n",
       "      <td>145</td>\n",
       "      <td>356</td>\n",
       "      <td>0.0</td>\n",
       "      <td>0.0</td>\n",
       "    </tr>\n",
       "    <tr>\n",
       "      <th>3</th>\n",
       "      <td>A91A80C2</td>\n",
       "      <td>5.0</td>\n",
       "      <td>0.0</td>\n",
       "      <td>976</td>\n",
       "      <td>1,378</td>\n",
       "      <td>0.0</td>\n",
       "      <td>0.0</td>\n",
       "    </tr>\n",
       "    <tr>\n",
       "      <th>4</th>\n",
       "      <td>5E1CA9C9</td>\n",
       "      <td>2.0</td>\n",
       "      <td>12.0</td>\n",
       "      <td>250</td>\n",
       "      <td>420</td>\n",
       "      <td>0.0</td>\n",
       "      <td>0.0</td>\n",
       "    </tr>\n",
       "  </tbody>\n",
       "</table>\n",
       "</div>"
      ],
      "text/plain": [
       "  kode_nama  scopus_h_index  googlescholar_h_index sinta_3yr_score  \\\n",
       "0  C0233C4F             3.0                   10.0             223   \n",
       "1  036A27B5             3.0                   27.0             399   \n",
       "2  E2B61FF1             0.0                   11.0             145   \n",
       "3  A91A80C2             5.0                    0.0             976   \n",
       "4  5E1CA9C9             2.0                   12.0             250   \n",
       "\n",
       "  sinta_score  affil_3yr_score  affil_score  \n",
       "0         443              0.0          0.0  \n",
       "1         703              0.0          0.0  \n",
       "2         356              0.0          0.0  \n",
       "3       1,378              0.0          0.0  \n",
       "4         420              0.0          0.0  "
      ]
     },
     "execution_count": 2,
     "metadata": {},
     "output_type": "execute_result"
    }
   ],
   "source": [
    "df = pd.read_csv(\"C:\\\\Users\\\\Byebay\\\\Documents\\\\College\\\\Data Mining\\\\tugas\\\\tugas 1\\\\Data_Dosen_Juni_2022_ANON - data_sinta.csv\")\n",
    "df.head(5)"
   ]
  },
  {
   "cell_type": "code",
   "execution_count": 9,
   "id": "49feb674",
   "metadata": {
    "scrolled": false
   },
   "outputs": [
    {
     "data": {
      "text/html": [
       "<div>\n",
       "<style scoped>\n",
       "    .dataframe tbody tr th:only-of-type {\n",
       "        vertical-align: middle;\n",
       "    }\n",
       "\n",
       "    .dataframe tbody tr th {\n",
       "        vertical-align: top;\n",
       "    }\n",
       "\n",
       "    .dataframe thead th {\n",
       "        text-align: right;\n",
       "    }\n",
       "</style>\n",
       "<table border=\"1\" class=\"dataframe\">\n",
       "  <thead>\n",
       "    <tr style=\"text-align: right;\">\n",
       "      <th></th>\n",
       "      <th>thn_lahir</th>\n",
       "      <th>kode_nama</th>\n",
       "      <th>gender</th>\n",
       "      <th>Stat.Peg</th>\n",
       "      <th>Gol</th>\n",
       "      <th>Jabatan Fungsional</th>\n",
       "      <th>Pendidikan Terakhir</th>\n",
       "      <th>Fakultas</th>\n",
       "      <th>Nama Prodi</th>\n",
       "    </tr>\n",
       "  </thead>\n",
       "  <tbody>\n",
       "    <tr>\n",
       "      <th>0</th>\n",
       "      <td>1962</td>\n",
       "      <td>C0233C4F</td>\n",
       "      <td>1</td>\n",
       "      <td>PNS</td>\n",
       "      <td>IV/c</td>\n",
       "      <td>Guru Besar</td>\n",
       "      <td>S3</td>\n",
       "      <td>FIP</td>\n",
       "      <td>Bimbingan Dan Konseling (S3)</td>\n",
       "    </tr>\n",
       "    <tr>\n",
       "      <th>1</th>\n",
       "      <td>1953</td>\n",
       "      <td>036A27B5</td>\n",
       "      <td>1</td>\n",
       "      <td>PNS</td>\n",
       "      <td>IV/e</td>\n",
       "      <td>Guru Besar</td>\n",
       "      <td>S3</td>\n",
       "      <td>FIP</td>\n",
       "      <td>Pengembangan Kurikulum (S3)</td>\n",
       "    </tr>\n",
       "    <tr>\n",
       "      <th>2</th>\n",
       "      <td>1954</td>\n",
       "      <td>E2B61FF1</td>\n",
       "      <td>2</td>\n",
       "      <td>PNS</td>\n",
       "      <td>IV/e</td>\n",
       "      <td>Guru Besar</td>\n",
       "      <td>S3</td>\n",
       "      <td>FIP</td>\n",
       "      <td>Pendidikan Masyarakat (S3)</td>\n",
       "    </tr>\n",
       "    <tr>\n",
       "      <th>3</th>\n",
       "      <td>1955</td>\n",
       "      <td>A91A80C2</td>\n",
       "      <td>1</td>\n",
       "      <td>PNS</td>\n",
       "      <td>IV/e</td>\n",
       "      <td>Guru Besar</td>\n",
       "      <td>S3</td>\n",
       "      <td>FIP</td>\n",
       "      <td>Pendidikan Khusus (S3)</td>\n",
       "    </tr>\n",
       "    <tr>\n",
       "      <th>4</th>\n",
       "      <td>1961</td>\n",
       "      <td>5E1CA9C9</td>\n",
       "      <td>1</td>\n",
       "      <td>PNS</td>\n",
       "      <td>IV/e</td>\n",
       "      <td>Guru Besar</td>\n",
       "      <td>S3</td>\n",
       "      <td>FIP</td>\n",
       "      <td>Pendidikan Masyarakat (S2)</td>\n",
       "    </tr>\n",
       "  </tbody>\n",
       "</table>\n",
       "</div>"
      ],
      "text/plain": [
       "   thn_lahir kode_nama  gender Stat.Peg   Gol Jabatan Fungsional  \\\n",
       "0       1962  C0233C4F       1      PNS  IV/c         Guru Besar   \n",
       "1       1953  036A27B5       1      PNS  IV/e         Guru Besar   \n",
       "2       1954  E2B61FF1       2      PNS  IV/e         Guru Besar   \n",
       "3       1955  A91A80C2       1      PNS  IV/e         Guru Besar   \n",
       "4       1961  5E1CA9C9       1      PNS  IV/e         Guru Besar   \n",
       "\n",
       "  Pendidikan Terakhir Fakultas                    Nama Prodi  \n",
       "0                  S3      FIP  Bimbingan Dan Konseling (S3)  \n",
       "1                  S3      FIP   Pengembangan Kurikulum (S3)  \n",
       "2                  S3      FIP    Pendidikan Masyarakat (S3)  \n",
       "3                  S3      FIP        Pendidikan Khusus (S3)  \n",
       "4                  S3      FIP    Pendidikan Masyarakat (S2)  "
      ]
     },
     "execution_count": 9,
     "metadata": {},
     "output_type": "execute_result"
    }
   ],
   "source": [
    "df1 = pd.read_csv(\"C:\\\\Users\\\\Byebay\\\\Documents\\\\College\\\\Data Mining\\\\tugas\\\\tugas 1\\\\Data_Dosen_Juni_2022_ANON - dosen.csv\")\n",
    "df1.head(5)"
   ]
  },
  {
   "cell_type": "markdown",
   "id": "10399f8b",
   "metadata": {},
   "source": [
    "#### Mengeksplorasi dataset dosen"
   ]
  },
  {
   "cell_type": "code",
   "execution_count": 10,
   "id": "d7e162c9",
   "metadata": {},
   "outputs": [
    {
     "name": "stdout",
     "output_type": "stream",
     "text": [
      "<class 'pandas.core.frame.DataFrame'>\n",
      "RangeIndex: 1510 entries, 0 to 1509\n",
      "Data columns (total 9 columns):\n",
      " #   Column               Non-Null Count  Dtype \n",
      "---  ------               --------------  ----- \n",
      " 0   thn_lahir            1510 non-null   int64 \n",
      " 1   kode_nama            1510 non-null   object\n",
      " 2   gender               1510 non-null   int64 \n",
      " 3   Stat.Peg             1510 non-null   object\n",
      " 4   Gol                  1483 non-null   object\n",
      " 5   Jabatan Fungsional   1510 non-null   object\n",
      " 6   Pendidikan Terakhir  1510 non-null   object\n",
      " 7   Fakultas             1510 non-null   object\n",
      " 8   Nama Prodi           1490 non-null   object\n",
      "dtypes: int64(2), object(7)\n",
      "memory usage: 106.3+ KB\n"
     ]
    }
   ],
   "source": [
    "df1.info()"
   ]
  },
  {
   "cell_type": "markdown",
   "id": "dc36359c",
   "metadata": {},
   "source": [
    "### Memperbaiki nama atribut di tiap dataframe"
   ]
  },
  {
   "cell_type": "code",
   "execution_count": 11,
   "id": "93dc0237",
   "metadata": {},
   "outputs": [],
   "source": [
    "df1= df1.rename(columns=str.lower)"
   ]
  },
  {
   "cell_type": "code",
   "execution_count": 12,
   "id": "8fd5309a",
   "metadata": {},
   "outputs": [],
   "source": [
    "df1.columns = df1.columns.str.replace('.','_', regex=True)\n",
    "df1.columns = df1.columns.str.replace(' ','_', regex=True)"
   ]
  },
  {
   "cell_type": "markdown",
   "id": "fbd4b9d0",
   "metadata": {},
   "source": [
    "### Mengganti datatype atribut"
   ]
  },
  {
   "cell_type": "code",
   "execution_count": 13,
   "id": "ac980100",
   "metadata": {},
   "outputs": [
    {
     "name": "stdout",
     "output_type": "stream",
     "text": [
      "<class 'pandas.core.frame.DataFrame'>\n",
      "RangeIndex: 1510 entries, 0 to 1509\n",
      "Data columns (total 9 columns):\n",
      " #   Column               Non-Null Count  Dtype   \n",
      "---  ------               --------------  -----   \n",
      " 0   thn_lahir            1510 non-null   int64   \n",
      " 1   kode_nama            1510 non-null   object  \n",
      " 2   gender               1510 non-null   category\n",
      " 3   stat_peg             1510 non-null   object  \n",
      " 4   gol                  1483 non-null   category\n",
      " 5   jabatan_fungsional   1510 non-null   object  \n",
      " 6   pendidikan_terakhir  1510 non-null   object  \n",
      " 7   fakultas             1510 non-null   object  \n",
      " 8   nama_prodi           1490 non-null   object  \n",
      "dtypes: category(2), int64(1), object(6)\n",
      "memory usage: 86.1+ KB\n"
     ]
    }
   ],
   "source": [
    "df1[\"gender\"] = df1[\"gender\"].astype(\"category\")\n",
    "df1.gol = pd.Categorical(df1.gol,ordered=True,categories=['IV/e','IV/d','IV/c','IV/b', 'IV/a', 'III/d', 'III/c', 'III/b', 'III/a'])\n",
    "df1.info()"
   ]
  },
  {
   "cell_type": "markdown",
   "id": "b4161e5c",
   "metadata": {},
   "source": [
    "### Transformasi data atribut gender"
   ]
  },
  {
   "cell_type": "code",
   "execution_count": 14,
   "id": "bf6ce0c8",
   "metadata": {
    "scrolled": true
   },
   "outputs": [
    {
     "data": {
      "text/html": [
       "<div>\n",
       "<style scoped>\n",
       "    .dataframe tbody tr th:only-of-type {\n",
       "        vertical-align: middle;\n",
       "    }\n",
       "\n",
       "    .dataframe tbody tr th {\n",
       "        vertical-align: top;\n",
       "    }\n",
       "\n",
       "    .dataframe thead th {\n",
       "        text-align: right;\n",
       "    }\n",
       "</style>\n",
       "<table border=\"1\" class=\"dataframe\">\n",
       "  <thead>\n",
       "    <tr style=\"text-align: right;\">\n",
       "      <th></th>\n",
       "      <th>thn_lahir</th>\n",
       "      <th>kode_nama</th>\n",
       "      <th>gender</th>\n",
       "      <th>stat_peg</th>\n",
       "      <th>gol</th>\n",
       "      <th>jabatan_fungsional</th>\n",
       "      <th>pendidikan_terakhir</th>\n",
       "      <th>fakultas</th>\n",
       "      <th>nama_prodi</th>\n",
       "    </tr>\n",
       "  </thead>\n",
       "  <tbody>\n",
       "    <tr>\n",
       "      <th>0</th>\n",
       "      <td>1962</td>\n",
       "      <td>C0233C4F</td>\n",
       "      <td>M</td>\n",
       "      <td>PNS</td>\n",
       "      <td>IV/c</td>\n",
       "      <td>Guru Besar</td>\n",
       "      <td>S3</td>\n",
       "      <td>FIP</td>\n",
       "      <td>Bimbingan Dan Konseling (S3)</td>\n",
       "    </tr>\n",
       "    <tr>\n",
       "      <th>1</th>\n",
       "      <td>1953</td>\n",
       "      <td>036A27B5</td>\n",
       "      <td>M</td>\n",
       "      <td>PNS</td>\n",
       "      <td>IV/e</td>\n",
       "      <td>Guru Besar</td>\n",
       "      <td>S3</td>\n",
       "      <td>FIP</td>\n",
       "      <td>Pengembangan Kurikulum (S3)</td>\n",
       "    </tr>\n",
       "  </tbody>\n",
       "</table>\n",
       "</div>"
      ],
      "text/plain": [
       "   thn_lahir kode_nama gender stat_peg   gol jabatan_fungsional  \\\n",
       "0       1962  C0233C4F      M      PNS  IV/c         Guru Besar   \n",
       "1       1953  036A27B5      M      PNS  IV/e         Guru Besar   \n",
       "\n",
       "  pendidikan_terakhir fakultas                    nama_prodi  \n",
       "0                  S3      FIP  Bimbingan Dan Konseling (S3)  \n",
       "1                  S3      FIP   Pengembangan Kurikulum (S3)  "
      ]
     },
     "execution_count": 14,
     "metadata": {},
     "output_type": "execute_result"
    }
   ],
   "source": [
    "df1.gender = df1.gender.replace({1: \"M\", 2: \"F\"})\n",
    "df1.head(2)"
   ]
  },
  {
   "cell_type": "markdown",
   "id": "08f77914",
   "metadata": {},
   "source": [
    "### Mengecek data NaN pada dataframe dosen"
   ]
  },
  {
   "cell_type": "code",
   "execution_count": 15,
   "id": "8649ff58",
   "metadata": {},
   "outputs": [
    {
     "data": {
      "text/plain": [
       "thn_lahir               0\n",
       "kode_nama               0\n",
       "gender                  0\n",
       "stat_peg                0\n",
       "gol                    27\n",
       "jabatan_fungsional      0\n",
       "pendidikan_terakhir     0\n",
       "fakultas                0\n",
       "nama_prodi             20\n",
       "dtype: int64"
      ]
     },
     "execution_count": 15,
     "metadata": {},
     "output_type": "execute_result"
    }
   ],
   "source": [
    "df1.isna().sum()"
   ]
  },
  {
   "cell_type": "markdown",
   "id": "43fc9724",
   "metadata": {},
   "source": [
    "### Mengisi data NaN pada atribut gol"
   ]
  },
  {
   "cell_type": "markdown",
   "id": "862ed1b4",
   "metadata": {},
   "source": [
    "#### Mengelompokkan data di atribut gol"
   ]
  },
  {
   "cell_type": "code",
   "execution_count": 16,
   "id": "6d59a4d5",
   "metadata": {
    "scrolled": true
   },
   "outputs": [
    {
     "data": {
      "text/plain": [
       "IV/e      34\n",
       "IV/d      54\n",
       "IV/c      59\n",
       "IV/b     169\n",
       "IV/a     209\n",
       "III/d    270\n",
       "III/c    198\n",
       "III/b    480\n",
       "III/a     10\n",
       "NaN       27\n",
       "Name: gol, dtype: int64"
      ]
     },
     "execution_count": 16,
     "metadata": {},
     "output_type": "execute_result"
    }
   ],
   "source": [
    "df1.gol.value_counts(dropna=False).sort_index()"
   ]
  },
  {
   "cell_type": "markdown",
   "id": "c52616ea",
   "metadata": {},
   "source": [
    "#### Melihat data yang NaN pada atribut gol"
   ]
  },
  {
   "cell_type": "code",
   "execution_count": 17,
   "id": "ea8b473f",
   "metadata": {
    "scrolled": true
   },
   "outputs": [
    {
     "data": {
      "text/html": [
       "<div>\n",
       "<style scoped>\n",
       "    .dataframe tbody tr th:only-of-type {\n",
       "        vertical-align: middle;\n",
       "    }\n",
       "\n",
       "    .dataframe tbody tr th {\n",
       "        vertical-align: top;\n",
       "    }\n",
       "\n",
       "    .dataframe thead th {\n",
       "        text-align: right;\n",
       "    }\n",
       "</style>\n",
       "<table border=\"1\" class=\"dataframe\">\n",
       "  <thead>\n",
       "    <tr style=\"text-align: right;\">\n",
       "      <th></th>\n",
       "      <th>thn_lahir</th>\n",
       "      <th>kode_nama</th>\n",
       "      <th>gender</th>\n",
       "      <th>stat_peg</th>\n",
       "      <th>gol</th>\n",
       "      <th>jabatan_fungsional</th>\n",
       "      <th>pendidikan_terakhir</th>\n",
       "      <th>fakultas</th>\n",
       "      <th>nama_prodi</th>\n",
       "    </tr>\n",
       "  </thead>\n",
       "  <tbody>\n",
       "    <tr>\n",
       "      <th>165</th>\n",
       "      <td>1952</td>\n",
       "      <td>243F541E</td>\n",
       "      <td>M</td>\n",
       "      <td>PNS</td>\n",
       "      <td>NaN</td>\n",
       "      <td>Guru Besar</td>\n",
       "      <td>S3</td>\n",
       "      <td>FIP</td>\n",
       "      <td>Pendidikan Khusus (S1)</td>\n",
       "    </tr>\n",
       "    <tr>\n",
       "      <th>1133</th>\n",
       "      <td>9202</td>\n",
       "      <td>2D5A2A74</td>\n",
       "      <td>M</td>\n",
       "      <td>PT-P</td>\n",
       "      <td>NaN</td>\n",
       "      <td>Guru Besar</td>\n",
       "      <td>S3</td>\n",
       "      <td>FIP</td>\n",
       "      <td>Bimbingan Dan Konseling (S3)</td>\n",
       "    </tr>\n",
       "    <tr>\n",
       "      <th>1134</th>\n",
       "      <td>9202</td>\n",
       "      <td>AFF8E8EA</td>\n",
       "      <td>M</td>\n",
       "      <td>PT-P</td>\n",
       "      <td>NaN</td>\n",
       "      <td>Guru Besar</td>\n",
       "      <td>S3</td>\n",
       "      <td>FIP</td>\n",
       "      <td>Bimbingan Dan Konseling (S3)</td>\n",
       "    </tr>\n",
       "    <tr>\n",
       "      <th>1153</th>\n",
       "      <td>9201</td>\n",
       "      <td>CA1ED2A7</td>\n",
       "      <td>M</td>\n",
       "      <td>PT-P</td>\n",
       "      <td>NaN</td>\n",
       "      <td>Guru Besar</td>\n",
       "      <td>S3</td>\n",
       "      <td>FPIPS</td>\n",
       "      <td>Pendidikan Sejarah (S3)</td>\n",
       "    </tr>\n",
       "    <tr>\n",
       "      <th>1154</th>\n",
       "      <td>9202</td>\n",
       "      <td>14DCB298</td>\n",
       "      <td>M</td>\n",
       "      <td>PT-P</td>\n",
       "      <td>NaN</td>\n",
       "      <td>Guru Besar</td>\n",
       "      <td>S3</td>\n",
       "      <td>FPIPS</td>\n",
       "      <td>Pendidikan Kewarganegaraan (S3)</td>\n",
       "    </tr>\n",
       "    <tr>\n",
       "      <th>1208</th>\n",
       "      <td>9202</td>\n",
       "      <td>DB4A6AF6</td>\n",
       "      <td>M</td>\n",
       "      <td>PT-P</td>\n",
       "      <td>NaN</td>\n",
       "      <td>Guru Besar</td>\n",
       "      <td>S3</td>\n",
       "      <td>FPBS</td>\n",
       "      <td>Pendidikan Bahasa Inggris (S2)</td>\n",
       "    </tr>\n",
       "    <tr>\n",
       "      <th>1209</th>\n",
       "      <td>9202</td>\n",
       "      <td>632C11D7</td>\n",
       "      <td>F</td>\n",
       "      <td>PT-P</td>\n",
       "      <td>NaN</td>\n",
       "      <td>Guru Besar</td>\n",
       "      <td>S3</td>\n",
       "      <td>FPBS</td>\n",
       "      <td>Pendidikan Bahasa Inggris (S3)</td>\n",
       "    </tr>\n",
       "    <tr>\n",
       "      <th>1229</th>\n",
       "      <td>201</td>\n",
       "      <td>093E4596</td>\n",
       "      <td>M</td>\n",
       "      <td>PTT</td>\n",
       "      <td>NaN</td>\n",
       "      <td>Tenaga Pengajar</td>\n",
       "      <td>S3</td>\n",
       "      <td>FPBS</td>\n",
       "      <td>Pendidikan Bahasa Korea (S1)</td>\n",
       "    </tr>\n",
       "    <tr>\n",
       "      <th>1230</th>\n",
       "      <td>201</td>\n",
       "      <td>88680AAA</td>\n",
       "      <td>F</td>\n",
       "      <td>PTT</td>\n",
       "      <td>NaN</td>\n",
       "      <td>Tenaga Pengajar</td>\n",
       "      <td>S2</td>\n",
       "      <td>FPBS</td>\n",
       "      <td>Pendidikan Bahasa Korea (S1)</td>\n",
       "    </tr>\n",
       "    <tr>\n",
       "      <th>1231</th>\n",
       "      <td>201</td>\n",
       "      <td>057FF67B</td>\n",
       "      <td>M</td>\n",
       "      <td>PTT</td>\n",
       "      <td>NaN</td>\n",
       "      <td>Tenaga Pengajar</td>\n",
       "      <td>S3</td>\n",
       "      <td>FPBS</td>\n",
       "      <td>Pendidikan Bahasa Korea (S1)</td>\n",
       "    </tr>\n",
       "    <tr>\n",
       "      <th>1232</th>\n",
       "      <td>201</td>\n",
       "      <td>68B81750</td>\n",
       "      <td>F</td>\n",
       "      <td>PTT</td>\n",
       "      <td>NaN</td>\n",
       "      <td>Tenaga Pengajar</td>\n",
       "      <td>S3</td>\n",
       "      <td>FPBS</td>\n",
       "      <td>Pendidikan Bahasa Korea (S1)</td>\n",
       "    </tr>\n",
       "    <tr>\n",
       "      <th>1233</th>\n",
       "      <td>9201</td>\n",
       "      <td>A7298F7D</td>\n",
       "      <td>F</td>\n",
       "      <td>PT-P</td>\n",
       "      <td>NaN</td>\n",
       "      <td>Guru Besar</td>\n",
       "      <td>S3</td>\n",
       "      <td>FPMIPA</td>\n",
       "      <td>Pendidikan Ilmu Pengetahuan Alam (S3)</td>\n",
       "    </tr>\n",
       "    <tr>\n",
       "      <th>1234</th>\n",
       "      <td>9202</td>\n",
       "      <td>E0149F19</td>\n",
       "      <td>F</td>\n",
       "      <td>PT-P</td>\n",
       "      <td>NaN</td>\n",
       "      <td>Guru Besar</td>\n",
       "      <td>S3</td>\n",
       "      <td>FPMIPA</td>\n",
       "      <td>Pendidikan Biologi (S2)</td>\n",
       "    </tr>\n",
       "    <tr>\n",
       "      <th>1235</th>\n",
       "      <td>9202</td>\n",
       "      <td>B045191E</td>\n",
       "      <td>M</td>\n",
       "      <td>PT-P</td>\n",
       "      <td>NaN</td>\n",
       "      <td>Guru Besar</td>\n",
       "      <td>S3</td>\n",
       "      <td>FPMIPA</td>\n",
       "      <td>Pendidikan Matematika (S2)</td>\n",
       "    </tr>\n",
       "    <tr>\n",
       "      <th>1245</th>\n",
       "      <td>201</td>\n",
       "      <td>5BDA92E5</td>\n",
       "      <td>M</td>\n",
       "      <td>PTT</td>\n",
       "      <td>NaN</td>\n",
       "      <td>Tenaga Pengajar</td>\n",
       "      <td>S3</td>\n",
       "      <td>FPMIPA</td>\n",
       "      <td>Pendidikan Kimia (S2)</td>\n",
       "    </tr>\n",
       "    <tr>\n",
       "      <th>1246</th>\n",
       "      <td>9201</td>\n",
       "      <td>E62B984E</td>\n",
       "      <td>M</td>\n",
       "      <td>PT-P</td>\n",
       "      <td>NaN</td>\n",
       "      <td>Guru Besar</td>\n",
       "      <td>S3</td>\n",
       "      <td>FPTK</td>\n",
       "      <td>Pendidikan Teknologi Agroindustri (S1)</td>\n",
       "    </tr>\n",
       "    <tr>\n",
       "      <th>1324</th>\n",
       "      <td>9202</td>\n",
       "      <td>FAD055EF</td>\n",
       "      <td>M</td>\n",
       "      <td>PT-P</td>\n",
       "      <td>NaN</td>\n",
       "      <td>Guru Besar</td>\n",
       "      <td>S3</td>\n",
       "      <td>FPEB</td>\n",
       "      <td>Manajemen (S1)</td>\n",
       "    </tr>\n",
       "    <tr>\n",
       "      <th>1361</th>\n",
       "      <td>9202</td>\n",
       "      <td>BFA2408B</td>\n",
       "      <td>F</td>\n",
       "      <td>PT-P</td>\n",
       "      <td>NaN</td>\n",
       "      <td>Tenaga Pengajar</td>\n",
       "      <td>S2</td>\n",
       "      <td>FK</td>\n",
       "      <td>NaN</td>\n",
       "    </tr>\n",
       "    <tr>\n",
       "      <th>1362</th>\n",
       "      <td>9202</td>\n",
       "      <td>FE7B8C66</td>\n",
       "      <td>F</td>\n",
       "      <td>PT-P</td>\n",
       "      <td>NaN</td>\n",
       "      <td>Tenaga Pengajar</td>\n",
       "      <td>S2</td>\n",
       "      <td>FK</td>\n",
       "      <td>NaN</td>\n",
       "    </tr>\n",
       "    <tr>\n",
       "      <th>1363</th>\n",
       "      <td>9202</td>\n",
       "      <td>81339F9E</td>\n",
       "      <td>M</td>\n",
       "      <td>PT-P</td>\n",
       "      <td>NaN</td>\n",
       "      <td>Tenaga Pengajar</td>\n",
       "      <td>S2</td>\n",
       "      <td>FK</td>\n",
       "      <td>NaN</td>\n",
       "    </tr>\n",
       "    <tr>\n",
       "      <th>1364</th>\n",
       "      <td>9202</td>\n",
       "      <td>2D3E4BA8</td>\n",
       "      <td>M</td>\n",
       "      <td>PT-P</td>\n",
       "      <td>NaN</td>\n",
       "      <td>Tenaga Pengajar</td>\n",
       "      <td>S2</td>\n",
       "      <td>FK</td>\n",
       "      <td>NaN</td>\n",
       "    </tr>\n",
       "    <tr>\n",
       "      <th>1365</th>\n",
       "      <td>9202</td>\n",
       "      <td>3E526FB9</td>\n",
       "      <td>F</td>\n",
       "      <td>PT-P</td>\n",
       "      <td>NaN</td>\n",
       "      <td>Tenaga Pengajar</td>\n",
       "      <td>S2</td>\n",
       "      <td>FK</td>\n",
       "      <td>NaN</td>\n",
       "    </tr>\n",
       "    <tr>\n",
       "      <th>1366</th>\n",
       "      <td>9202</td>\n",
       "      <td>3BECF36F</td>\n",
       "      <td>F</td>\n",
       "      <td>PT-P</td>\n",
       "      <td>NaN</td>\n",
       "      <td>Tenaga Pengajar</td>\n",
       "      <td>S2</td>\n",
       "      <td>FK</td>\n",
       "      <td>NaN</td>\n",
       "    </tr>\n",
       "    <tr>\n",
       "      <th>1367</th>\n",
       "      <td>9202</td>\n",
       "      <td>49286BA3</td>\n",
       "      <td>M</td>\n",
       "      <td>PT-P</td>\n",
       "      <td>NaN</td>\n",
       "      <td>Tenaga Pengajar</td>\n",
       "      <td>S2</td>\n",
       "      <td>FK</td>\n",
       "      <td>NaN</td>\n",
       "    </tr>\n",
       "    <tr>\n",
       "      <th>1368</th>\n",
       "      <td>9202</td>\n",
       "      <td>D81D2445</td>\n",
       "      <td>M</td>\n",
       "      <td>PT-P</td>\n",
       "      <td>NaN</td>\n",
       "      <td>Tenaga Pengajar</td>\n",
       "      <td>S2</td>\n",
       "      <td>FK</td>\n",
       "      <td>NaN</td>\n",
       "    </tr>\n",
       "    <tr>\n",
       "      <th>1369</th>\n",
       "      <td>9202</td>\n",
       "      <td>B3BB9F35</td>\n",
       "      <td>M</td>\n",
       "      <td>PT-P</td>\n",
       "      <td>NaN</td>\n",
       "      <td>Tenaga Pengajar</td>\n",
       "      <td>S2</td>\n",
       "      <td>FK</td>\n",
       "      <td>NaN</td>\n",
       "    </tr>\n",
       "    <tr>\n",
       "      <th>1370</th>\n",
       "      <td>9202</td>\n",
       "      <td>78B337EA</td>\n",
       "      <td>M</td>\n",
       "      <td>PT-P</td>\n",
       "      <td>NaN</td>\n",
       "      <td>Tenaga Pengajar</td>\n",
       "      <td>S2</td>\n",
       "      <td>FK</td>\n",
       "      <td>NaN</td>\n",
       "    </tr>\n",
       "  </tbody>\n",
       "</table>\n",
       "</div>"
      ],
      "text/plain": [
       "      thn_lahir kode_nama gender stat_peg  gol jabatan_fungsional  \\\n",
       "165        1952  243F541E      M      PNS  NaN         Guru Besar   \n",
       "1133       9202  2D5A2A74      M     PT-P  NaN         Guru Besar   \n",
       "1134       9202  AFF8E8EA      M     PT-P  NaN         Guru Besar   \n",
       "1153       9201  CA1ED2A7      M     PT-P  NaN         Guru Besar   \n",
       "1154       9202  14DCB298      M     PT-P  NaN         Guru Besar   \n",
       "1208       9202  DB4A6AF6      M     PT-P  NaN         Guru Besar   \n",
       "1209       9202  632C11D7      F     PT-P  NaN         Guru Besar   \n",
       "1229        201  093E4596      M      PTT  NaN    Tenaga Pengajar   \n",
       "1230        201  88680AAA      F      PTT  NaN    Tenaga Pengajar   \n",
       "1231        201  057FF67B      M      PTT  NaN    Tenaga Pengajar   \n",
       "1232        201  68B81750      F      PTT  NaN    Tenaga Pengajar   \n",
       "1233       9201  A7298F7D      F     PT-P  NaN         Guru Besar   \n",
       "1234       9202  E0149F19      F     PT-P  NaN         Guru Besar   \n",
       "1235       9202  B045191E      M     PT-P  NaN         Guru Besar   \n",
       "1245        201  5BDA92E5      M      PTT  NaN    Tenaga Pengajar   \n",
       "1246       9201  E62B984E      M     PT-P  NaN         Guru Besar   \n",
       "1324       9202  FAD055EF      M     PT-P  NaN         Guru Besar   \n",
       "1361       9202  BFA2408B      F     PT-P  NaN    Tenaga Pengajar   \n",
       "1362       9202  FE7B8C66      F     PT-P  NaN    Tenaga Pengajar   \n",
       "1363       9202  81339F9E      M     PT-P  NaN    Tenaga Pengajar   \n",
       "1364       9202  2D3E4BA8      M     PT-P  NaN    Tenaga Pengajar   \n",
       "1365       9202  3E526FB9      F     PT-P  NaN    Tenaga Pengajar   \n",
       "1366       9202  3BECF36F      F     PT-P  NaN    Tenaga Pengajar   \n",
       "1367       9202  49286BA3      M     PT-P  NaN    Tenaga Pengajar   \n",
       "1368       9202  D81D2445      M     PT-P  NaN    Tenaga Pengajar   \n",
       "1369       9202  B3BB9F35      M     PT-P  NaN    Tenaga Pengajar   \n",
       "1370       9202  78B337EA      M     PT-P  NaN    Tenaga Pengajar   \n",
       "\n",
       "     pendidikan_terakhir fakultas                              nama_prodi  \n",
       "165                   S3      FIP                  Pendidikan Khusus (S1)  \n",
       "1133                  S3      FIP            Bimbingan Dan Konseling (S3)  \n",
       "1134                  S3      FIP            Bimbingan Dan Konseling (S3)  \n",
       "1153                  S3    FPIPS                 Pendidikan Sejarah (S3)  \n",
       "1154                  S3    FPIPS         Pendidikan Kewarganegaraan (S3)  \n",
       "1208                  S3     FPBS          Pendidikan Bahasa Inggris (S2)  \n",
       "1209                  S3     FPBS          Pendidikan Bahasa Inggris (S3)  \n",
       "1229                  S3     FPBS            Pendidikan Bahasa Korea (S1)  \n",
       "1230                  S2     FPBS            Pendidikan Bahasa Korea (S1)  \n",
       "1231                  S3     FPBS            Pendidikan Bahasa Korea (S1)  \n",
       "1232                  S3     FPBS            Pendidikan Bahasa Korea (S1)  \n",
       "1233                  S3   FPMIPA   Pendidikan Ilmu Pengetahuan Alam (S3)  \n",
       "1234                  S3   FPMIPA                 Pendidikan Biologi (S2)  \n",
       "1235                  S3   FPMIPA              Pendidikan Matematika (S2)  \n",
       "1245                  S3   FPMIPA                   Pendidikan Kimia (S2)  \n",
       "1246                  S3     FPTK  Pendidikan Teknologi Agroindustri (S1)  \n",
       "1324                  S3     FPEB                          Manajemen (S1)  \n",
       "1361                  S2       FK                                     NaN  \n",
       "1362                  S2       FK                                     NaN  \n",
       "1363                  S2       FK                                     NaN  \n",
       "1364                  S2       FK                                     NaN  \n",
       "1365                  S2       FK                                     NaN  \n",
       "1366                  S2       FK                                     NaN  \n",
       "1367                  S2       FK                                     NaN  \n",
       "1368                  S2       FK                                     NaN  \n",
       "1369                  S2       FK                                     NaN  \n",
       "1370                  S2       FK                                     NaN  "
      ]
     },
     "execution_count": 17,
     "metadata": {},
     "output_type": "execute_result"
    }
   ],
   "source": [
    "df1[(df1.gol.isna())]"
   ]
  },
  {
   "cell_type": "markdown",
   "id": "af1f4f03",
   "metadata": {},
   "source": [
    "#### Mengisi data NaN di atribut gol"
   ]
  },
  {
   "cell_type": "code",
   "execution_count": 18,
   "id": "8d321992",
   "metadata": {},
   "outputs": [],
   "source": [
    "modetp1 = df1.loc[((df1.pendidikan_terakhir == \"S2\") & (df1.jabatan_fungsional == \"Tenaga Pengajar\") & (df1.jabatan_fungsional.isna() == False))]['gol'].mode()[0]\n",
    "df1.loc[(df1[\"gol\"].isna()) & (df1.jabatan_fungsional == \"Tenaga Pengajar\") & (df1.pendidikan_terakhir == \"S2\"), 'gol'] = modetp1"
   ]
  },
  {
   "cell_type": "code",
   "execution_count": 19,
   "id": "928b5f52",
   "metadata": {},
   "outputs": [],
   "source": [
    "modetp2 = df1.loc[((df1.pendidikan_terakhir == \"S3\") & (df1.jabatan_fungsional == \"Tenaga Pengajar\") & (df1.jabatan_fungsional.isna() == False))]['gol'].mode()[0]\n",
    "df1.loc[(df1[\"gol\"].isna()) & (df1.jabatan_fungsional == \"Tenaga Pengajar\") & (df1.pendidikan_terakhir == \"S3\"), 'gol'] = modetp2"
   ]
  },
  {
   "cell_type": "code",
   "execution_count": 20,
   "id": "7835e5c9",
   "metadata": {},
   "outputs": [],
   "source": [
    "modegb = df1.loc[((df1.jabatan_fungsional == \"Guru Besar\") & (df1.jabatan_fungsional.isna() == False))]['gol'].mode()[0]\n",
    "df1.loc[(df1[\"gol\"].isna()) & (df1.jabatan_fungsional == \"Guru Besar\"), 'gol'] = modegb"
   ]
  },
  {
   "cell_type": "markdown",
   "id": "82d6e6d2",
   "metadata": {},
   "source": [
    "#### Mengecek kondisi data setelah diisi"
   ]
  },
  {
   "cell_type": "code",
   "execution_count": 21,
   "id": "b3d1cf49",
   "metadata": {},
   "outputs": [
    {
     "data": {
      "text/plain": [
       "IV/e      34\n",
       "IV/d      66\n",
       "IV/c      59\n",
       "IV/b     169\n",
       "IV/a     209\n",
       "III/d    270\n",
       "III/c    202\n",
       "III/b    491\n",
       "III/a     10\n",
       "Name: gol, dtype: int64"
      ]
     },
     "execution_count": 21,
     "metadata": {},
     "output_type": "execute_result"
    }
   ],
   "source": [
    "df1.gol.value_counts(dropna=False).sort_index()"
   ]
  },
  {
   "cell_type": "markdown",
   "id": "0ec1fc23",
   "metadata": {},
   "source": [
    "### Memperbaiki data yang tidak masuk akal pada atribut thn_lahir"
   ]
  },
  {
   "cell_type": "code",
   "execution_count": 22,
   "id": "32ab669e",
   "metadata": {},
   "outputs": [],
   "source": [
    "df1['thn_lahir'] = df1['thn_lahir'].where(((df1.thn_lahir < 9000) & (df1.thn_lahir > 1000)), None)\n",
    "df1[\"thn_lahir\"] = df1[\"thn_lahir\"].astype(\"Int64\")"
   ]
  },
  {
   "cell_type": "markdown",
   "id": "bb1eb8e7",
   "metadata": {},
   "source": [
    "#### Mengelompokkan atribut thn_lahir yang None berdasarkan atribut gol"
   ]
  },
  {
   "cell_type": "code",
   "execution_count": 23,
   "id": "540565d5",
   "metadata": {},
   "outputs": [
    {
     "data": {
      "text/plain": [
       "IV/e       0\n",
       "IV/d      11\n",
       "IV/c       0\n",
       "IV/b       0\n",
       "IV/a       0\n",
       "III/d      0\n",
       "III/c     12\n",
       "III/b    353\n",
       "III/a      1\n",
       "Name: gol, dtype: int64"
      ]
     },
     "execution_count": 23,
     "metadata": {},
     "output_type": "execute_result"
    }
   ],
   "source": [
    "df1.loc[df1.thn_lahir.isna()].gol.value_counts(dropna=False).sort_index()"
   ]
  },
  {
   "cell_type": "markdown",
   "id": "6f1a47f4",
   "metadata": {},
   "source": [
    "#### memperbaiki atribut thn_lahir yang None dengan menggunakan atribut gol"
   ]
  },
  {
   "cell_type": "code",
   "execution_count": 24,
   "id": "9c3e6de7",
   "metadata": {},
   "outputs": [],
   "source": [
    "df4d = df1.loc[(df1['gol'] == \"IV/d\") & (df1.thn_lahir.isna() == False)]\n",
    "df4d = round(df4d.thn_lahir.mean())\n",
    "df1.loc[(df1[\"thn_lahir\"].isna() == True) & (df1.gol == \"IV/d\"), 'thn_lahir'] = df4d"
   ]
  },
  {
   "cell_type": "code",
   "execution_count": 25,
   "id": "bfea870d",
   "metadata": {},
   "outputs": [],
   "source": [
    "df3c = df1.loc[(df1['gol'] == \"III/c\") & (df1.thn_lahir.isna() == False)]\n",
    "df3c = round(df3c.thn_lahir.mean())\n",
    "df1.loc[(df1[\"thn_lahir\"].isna() == True) & (df1.gol == \"III/c\"), 'thn_lahir'] = df3c"
   ]
  },
  {
   "cell_type": "code",
   "execution_count": 26,
   "id": "64c1da50",
   "metadata": {},
   "outputs": [],
   "source": [
    "df3b = df1.loc[(df1['gol'] == \"III/b\") & (df1.thn_lahir != 0)]\n",
    "df3b =round(df3b.thn_lahir.mean()) \n",
    "df1.loc[(df1[\"thn_lahir\"].isna() == True) & (df1.gol == \"III/b\"), 'thn_lahir'] = df3b"
   ]
  },
  {
   "cell_type": "code",
   "execution_count": 27,
   "id": "b18ceccc",
   "metadata": {},
   "outputs": [],
   "source": [
    "df3a = df1.loc[(df1['gol'] == \"III/a\") & (df1.thn_lahir != 0)]\n",
    "df3a =round(df3a.thn_lahir.mean()) \n",
    "df1.loc[(df1[\"thn_lahir\"].isna() == True) & (df1.gol == \"III/a\"), 'thn_lahir'] = df3a"
   ]
  },
  {
   "cell_type": "markdown",
   "id": "84f4b54d",
   "metadata": {},
   "source": [
    "#### Mengecek kondisi data setelah diisi"
   ]
  },
  {
   "cell_type": "code",
   "execution_count": 28,
   "id": "3e28bffe",
   "metadata": {},
   "outputs": [
    {
     "data": {
      "text/plain": [
       "IV/e     0\n",
       "IV/d     0\n",
       "IV/c     0\n",
       "IV/b     0\n",
       "IV/a     0\n",
       "III/d    0\n",
       "III/c    0\n",
       "III/b    0\n",
       "III/a    0\n",
       "Name: gol, dtype: int64"
      ]
     },
     "execution_count": 28,
     "metadata": {},
     "output_type": "execute_result"
    }
   ],
   "source": [
    "df1.loc[df1.thn_lahir.isna()].gol.value_counts(dropna=False).sort_index()"
   ]
  },
  {
   "cell_type": "markdown",
   "id": "d964570e",
   "metadata": {},
   "source": [
    "### Mengganti data prodi yang NaN menjadi \"Tidak diketahui\""
   ]
  },
  {
   "cell_type": "code",
   "execution_count": 29,
   "id": "ecf1edde",
   "metadata": {},
   "outputs": [
    {
     "data": {
      "text/plain": [
       "Administrasi Pendidikan (S1)    12\n",
       "Administrasi Pendidikan (S2)     6\n",
       "Administrasi Pendidikan (S3)     5\n",
       "Akuntansi (S1)                  10\n",
       "Arsitektur (D3)                  2\n",
       "                                ..\n",
       "Teknik Logistik (S1)             8\n",
       "Teknik Mesin (D3)                5\n",
       "Teknik Sipil (S1)               13\n",
       "Teknologi Pendidikan (S1)        7\n",
       "NaN                             20\n",
       "Name: nama_prodi, Length: 172, dtype: int64"
      ]
     },
     "execution_count": 29,
     "metadata": {},
     "output_type": "execute_result"
    }
   ],
   "source": [
    "df1.nama_prodi.value_counts(dropna = False).sort_index()"
   ]
  },
  {
   "cell_type": "code",
   "execution_count": 30,
   "id": "6f4eaf2f",
   "metadata": {},
   "outputs": [],
   "source": [
    "df1[\"nama_prodi\"].fillna(\"Tidak diketahui\", inplace = True)"
   ]
  },
  {
   "cell_type": "markdown",
   "id": "ddeb6930",
   "metadata": {},
   "source": [
    "#### Mengecek kondisi data setelah diisi"
   ]
  },
  {
   "cell_type": "code",
   "execution_count": 31,
   "id": "187e857a",
   "metadata": {},
   "outputs": [
    {
     "data": {
      "text/plain": [
       "Administrasi Pendidikan (S1)    12\n",
       "Administrasi Pendidikan (S2)     6\n",
       "Administrasi Pendidikan (S3)     5\n",
       "Akuntansi (S1)                  10\n",
       "Arsitektur (D3)                  2\n",
       "                                ..\n",
       "Teknik Logistik (S1)             8\n",
       "Teknik Mesin (D3)                5\n",
       "Teknik Sipil (S1)               13\n",
       "Teknologi Pendidikan (S1)        7\n",
       "Tidak diketahui                 20\n",
       "Name: nama_prodi, Length: 172, dtype: int64"
      ]
     },
     "execution_count": 31,
     "metadata": {},
     "output_type": "execute_result"
    }
   ],
   "source": [
    "df1.nama_prodi.value_counts(dropna = False).sort_index()"
   ]
  },
  {
   "cell_type": "markdown",
   "id": "d8f720bd",
   "metadata": {},
   "source": [
    "#### Mengeksplorasi dataset sinta dosen"
   ]
  },
  {
   "cell_type": "code",
   "execution_count": 32,
   "id": "3ee94d69",
   "metadata": {},
   "outputs": [
    {
     "name": "stdout",
     "output_type": "stream",
     "text": [
      "<class 'pandas.core.frame.DataFrame'>\n",
      "RangeIndex: 1510 entries, 0 to 1509\n",
      "Data columns (total 7 columns):\n",
      " #   Column                 Non-Null Count  Dtype  \n",
      "---  ------                 --------------  -----  \n",
      " 0   kode_nama              1510 non-null   object \n",
      " 1   scopus_h_index         1438 non-null   float64\n",
      " 2   googlescholar_h_index  1438 non-null   float64\n",
      " 3   sinta_3yr_score        1438 non-null   object \n",
      " 4   sinta_score            1438 non-null   object \n",
      " 5   affil_3yr_score        1438 non-null   float64\n",
      " 6   affil_score            1438 non-null   float64\n",
      "dtypes: float64(4), object(3)\n",
      "memory usage: 82.7+ KB\n"
     ]
    }
   ],
   "source": [
    "df.info()"
   ]
  },
  {
   "cell_type": "markdown",
   "id": "e9693324",
   "metadata": {},
   "source": [
    "#### Mengubah datatype atribut sinta_3yr_score dan sinta_score menjadi float"
   ]
  },
  {
   "cell_type": "code",
   "execution_count": 33,
   "id": "a17e6d51",
   "metadata": {},
   "outputs": [],
   "source": [
    "df[\"sinta_3yr_score\"] = pd.to_numeric(df[\"sinta_3yr_score\"], errors='coerce')\n",
    "df[\"sinta_score\"] = pd.to_numeric(df[\"sinta_score\"], errors='coerce')"
   ]
  },
  {
   "cell_type": "markdown",
   "id": "86338896",
   "metadata": {},
   "source": [
    "#### Melihat data yang NaN di tiap atribut"
   ]
  },
  {
   "cell_type": "code",
   "execution_count": 34,
   "id": "76fea868",
   "metadata": {},
   "outputs": [
    {
     "data": {
      "text/plain": [
       "kode_nama                  0\n",
       "scopus_h_index            72\n",
       "googlescholar_h_index     72\n",
       "sinta_3yr_score           94\n",
       "sinta_score              147\n",
       "affil_3yr_score           72\n",
       "affil_score               72\n",
       "dtype: int64"
      ]
     },
     "execution_count": 34,
     "metadata": {},
     "output_type": "execute_result"
    }
   ],
   "source": [
    "df.isna().sum()"
   ]
  },
  {
   "cell_type": "markdown",
   "id": "4fb793eb",
   "metadata": {},
   "source": [
    "#### Mengisi data NaN di tiap atribut menjadi 0"
   ]
  },
  {
   "cell_type": "code",
   "execution_count": 35,
   "id": "133f2248",
   "metadata": {},
   "outputs": [],
   "source": [
    "df[\"scopus_h_index\"].fillna(0, inplace = True)\n",
    "df[\"googlescholar_h_index\"].fillna(0, inplace = True)\n",
    "df[\"sinta_3yr_score\"].fillna(0, inplace = True)\n",
    "df[\"sinta_score\"].fillna(0, inplace = True)\n",
    "df[\"affil_score\"].fillna(0, inplace = True)\n",
    "df[\"affil_3yr_score\"].fillna(0, inplace = True)"
   ]
  },
  {
   "cell_type": "markdown",
   "id": "2fda6607",
   "metadata": {},
   "source": [
    "#### Mengecek kondisi data setelah diisi"
   ]
  },
  {
   "cell_type": "code",
   "execution_count": 36,
   "id": "1d47d754",
   "metadata": {},
   "outputs": [
    {
     "data": {
      "text/plain": [
       "kode_nama                0\n",
       "scopus_h_index           0\n",
       "googlescholar_h_index    0\n",
       "sinta_3yr_score          0\n",
       "sinta_score              0\n",
       "affil_3yr_score          0\n",
       "affil_score              0\n",
       "dtype: int64"
      ]
     },
     "execution_count": 36,
     "metadata": {},
     "output_type": "execute_result"
    }
   ],
   "source": [
    "df.isnull().sum()"
   ]
  },
  {
   "cell_type": "markdown",
   "id": "65cafe58",
   "metadata": {},
   "source": [
    "### Merge kedua dataset"
   ]
  },
  {
   "cell_type": "code",
   "execution_count": 37,
   "id": "de94c73c",
   "metadata": {
    "scrolled": false
   },
   "outputs": [
    {
     "data": {
      "text/html": [
       "<div>\n",
       "<style scoped>\n",
       "    .dataframe tbody tr th:only-of-type {\n",
       "        vertical-align: middle;\n",
       "    }\n",
       "\n",
       "    .dataframe tbody tr th {\n",
       "        vertical-align: top;\n",
       "    }\n",
       "\n",
       "    .dataframe thead th {\n",
       "        text-align: right;\n",
       "    }\n",
       "</style>\n",
       "<table border=\"1\" class=\"dataframe\">\n",
       "  <thead>\n",
       "    <tr style=\"text-align: right;\">\n",
       "      <th></th>\n",
       "      <th>thn_lahir</th>\n",
       "      <th>kode_nama</th>\n",
       "      <th>gender</th>\n",
       "      <th>stat_peg</th>\n",
       "      <th>gol</th>\n",
       "      <th>jabatan_fungsional</th>\n",
       "      <th>pendidikan_terakhir</th>\n",
       "      <th>fakultas</th>\n",
       "      <th>nama_prodi</th>\n",
       "      <th>scopus_h_index</th>\n",
       "      <th>googlescholar_h_index</th>\n",
       "      <th>sinta_3yr_score</th>\n",
       "      <th>sinta_score</th>\n",
       "    </tr>\n",
       "  </thead>\n",
       "  <tbody>\n",
       "    <tr>\n",
       "      <th>0</th>\n",
       "      <td>1962</td>\n",
       "      <td>C0233C4F</td>\n",
       "      <td>M</td>\n",
       "      <td>PNS</td>\n",
       "      <td>IV/c</td>\n",
       "      <td>Guru Besar</td>\n",
       "      <td>S3</td>\n",
       "      <td>FIP</td>\n",
       "      <td>Bimbingan Dan Konseling (S3)</td>\n",
       "      <td>3.0</td>\n",
       "      <td>10.0</td>\n",
       "      <td>223.0</td>\n",
       "      <td>443.0</td>\n",
       "    </tr>\n",
       "    <tr>\n",
       "      <th>1</th>\n",
       "      <td>1953</td>\n",
       "      <td>036A27B5</td>\n",
       "      <td>M</td>\n",
       "      <td>PNS</td>\n",
       "      <td>IV/e</td>\n",
       "      <td>Guru Besar</td>\n",
       "      <td>S3</td>\n",
       "      <td>FIP</td>\n",
       "      <td>Pengembangan Kurikulum (S3)</td>\n",
       "      <td>3.0</td>\n",
       "      <td>27.0</td>\n",
       "      <td>399.0</td>\n",
       "      <td>703.0</td>\n",
       "    </tr>\n",
       "    <tr>\n",
       "      <th>2</th>\n",
       "      <td>1954</td>\n",
       "      <td>E2B61FF1</td>\n",
       "      <td>F</td>\n",
       "      <td>PNS</td>\n",
       "      <td>IV/e</td>\n",
       "      <td>Guru Besar</td>\n",
       "      <td>S3</td>\n",
       "      <td>FIP</td>\n",
       "      <td>Pendidikan Masyarakat (S3)</td>\n",
       "      <td>0.0</td>\n",
       "      <td>11.0</td>\n",
       "      <td>145.0</td>\n",
       "      <td>356.0</td>\n",
       "    </tr>\n",
       "    <tr>\n",
       "      <th>3</th>\n",
       "      <td>1955</td>\n",
       "      <td>A91A80C2</td>\n",
       "      <td>M</td>\n",
       "      <td>PNS</td>\n",
       "      <td>IV/e</td>\n",
       "      <td>Guru Besar</td>\n",
       "      <td>S3</td>\n",
       "      <td>FIP</td>\n",
       "      <td>Pendidikan Khusus (S3)</td>\n",
       "      <td>5.0</td>\n",
       "      <td>0.0</td>\n",
       "      <td>976.0</td>\n",
       "      <td>0.0</td>\n",
       "    </tr>\n",
       "    <tr>\n",
       "      <th>4</th>\n",
       "      <td>1961</td>\n",
       "      <td>5E1CA9C9</td>\n",
       "      <td>M</td>\n",
       "      <td>PNS</td>\n",
       "      <td>IV/e</td>\n",
       "      <td>Guru Besar</td>\n",
       "      <td>S3</td>\n",
       "      <td>FIP</td>\n",
       "      <td>Pendidikan Masyarakat (S2)</td>\n",
       "      <td>2.0</td>\n",
       "      <td>12.0</td>\n",
       "      <td>250.0</td>\n",
       "      <td>420.0</td>\n",
       "    </tr>\n",
       "  </tbody>\n",
       "</table>\n",
       "</div>"
      ],
      "text/plain": [
       "   thn_lahir kode_nama gender stat_peg   gol jabatan_fungsional  \\\n",
       "0       1962  C0233C4F      M      PNS  IV/c         Guru Besar   \n",
       "1       1953  036A27B5      M      PNS  IV/e         Guru Besar   \n",
       "2       1954  E2B61FF1      F      PNS  IV/e         Guru Besar   \n",
       "3       1955  A91A80C2      M      PNS  IV/e         Guru Besar   \n",
       "4       1961  5E1CA9C9      M      PNS  IV/e         Guru Besar   \n",
       "\n",
       "  pendidikan_terakhir fakultas                    nama_prodi  scopus_h_index  \\\n",
       "0                  S3      FIP  Bimbingan Dan Konseling (S3)             3.0   \n",
       "1                  S3      FIP   Pengembangan Kurikulum (S3)             3.0   \n",
       "2                  S3      FIP    Pendidikan Masyarakat (S3)             0.0   \n",
       "3                  S3      FIP        Pendidikan Khusus (S3)             5.0   \n",
       "4                  S3      FIP    Pendidikan Masyarakat (S2)             2.0   \n",
       "\n",
       "   googlescholar_h_index  sinta_3yr_score  sinta_score  \n",
       "0                   10.0            223.0        443.0  \n",
       "1                   27.0            399.0        703.0  \n",
       "2                   11.0            145.0        356.0  \n",
       "3                    0.0            976.0          0.0  \n",
       "4                   12.0            250.0        420.0  "
      ]
     },
     "execution_count": 37,
     "metadata": {},
     "output_type": "execute_result"
    }
   ],
   "source": [
    "df3 = pd.merge(df1, df, how=\"left\", on=[\"kode_nama\"])\n",
    "df3 = df3.drop([\"affil_3yr_score\", \"affil_score\"], axis=1) #drop atribut affi_score dan affil_3yr_score\n",
    "df3.head(5)"
   ]
  },
  {
   "cell_type": "markdown",
   "id": "55e22f19",
   "metadata": {},
   "source": [
    "## Visualisasi Data"
   ]
  },
  {
   "cell_type": "markdown",
   "id": "2daf16b2",
   "metadata": {},
   "source": [
    "### Boxplot untuk menampilkan atribut sinta_score  berdasarkan atribut gol"
   ]
  },
  {
   "cell_type": "code",
   "execution_count": 38,
   "id": "be73adb9",
   "metadata": {
    "scrolled": false
   },
   "outputs": [
    {
     "data": {
      "text/plain": [
       "<AxesSubplot:title={'center':'sinta_score'}, xlabel='gol'>"
      ]
     },
     "execution_count": 38,
     "metadata": {},
     "output_type": "execute_result"
    },
    {
     "data": {
      "image/png": "[encoded data removed]",
      "text/plain": [
       "<Figure size 432x288 with 1 Axes>"
      ]
     },
     "metadata": {
      "needs_background": "light"
     },
     "output_type": "display_data"
    }
   ],
   "source": [
    "df3.boxplot(by ='gol', column =['sinta_score'], grid = False)"
   ]
  },
  {
   "cell_type": "markdown",
   "id": "4ea5a447",
   "metadata": {},
   "source": [
    "### Boxplot untuk menampilkan atribut sinta_3yr_score  berdasarkan atribut gol"
   ]
  },
  {
   "cell_type": "code",
   "execution_count": 39,
   "id": "7c51f905",
   "metadata": {},
   "outputs": [
    {
     "data": {
      "text/plain": [
       "<AxesSubplot:title={'center':'sinta_3yr_score'}, xlabel='gol'>"
      ]
     },
     "execution_count": 39,
     "metadata": {},
     "output_type": "execute_result"
    },
    {
     "data": {
      "image/png": "[encoded data removed]",
      "text/plain": [
       "<Figure size 432x288 with 1 Axes>"
      ]
     },
     "metadata": {
      "needs_background": "light"
     },
     "output_type": "display_data"
    }
   ],
   "source": [
    "df3.boxplot(by ='gol', column =['sinta_3yr_score'], grid = False)"
   ]
  },
  {
   "cell_type": "markdown",
   "id": "48ccb120",
   "metadata": {},
   "source": [
    "### Boxplot untuk menampilkan atribut scopus_h_index  berdasarkan atribut gol"
   ]
  },
  {
   "cell_type": "code",
   "execution_count": 40,
   "id": "23dd8d50",
   "metadata": {},
   "outputs": [
    {
     "data": {
      "text/plain": [
       "<AxesSubplot:title={'center':'scopus_h_index'}, xlabel='gol'>"
      ]
     },
     "execution_count": 40,
     "metadata": {},
     "output_type": "execute_result"
    },
    {
     "data": {
      "image/png": "[encoded data removed]",
      "text/plain": [
       "<Figure size 432x288 with 1 Axes>"
      ]
     },
     "metadata": {
      "needs_background": "light"
     },
     "output_type": "display_data"
    }
   ],
   "source": [
    "df3.boxplot(by ='gol', column =['scopus_h_index'], grid = False)"
   ]
  },
  {
   "cell_type": "markdown",
   "id": "8861fe1e",
   "metadata": {},
   "source": [
    "### Boxplot untuk menampilkan atribut googlescholar_h_index  berdasarkan atribut gol"
   ]
  },
  {
   "cell_type": "code",
   "execution_count": 41,
   "id": "d4d4deec",
   "metadata": {
    "scrolled": true
   },
   "outputs": [
    {
     "data": {
      "text/plain": [
       "<AxesSubplot:title={'center':'googlescholar_h_index'}, xlabel='gol'>"
      ]
     },
     "execution_count": 41,
     "metadata": {},
     "output_type": "execute_result"
    },
    {
     "data": {
      "image/png": "[encoded data removed]",
      "text/plain": [
       "<Figure size 432x288 with 1 Axes>"
      ]
     },
     "metadata": {
      "needs_background": "light"
     },
     "output_type": "display_data"
    }
   ],
   "source": [
    "df3.boxplot(by ='gol', column =['googlescholar_h_index'], grid = False)"
   ]
  },
  {
   "cell_type": "markdown",
   "id": "6f6a22e0",
   "metadata": {},
   "source": [
    "### Membandingkan rata-rata atribut scopus_h_index dan googlescholar_h_index di tiap fakultas"
   ]
  },
  {
   "cell_type": "code",
   "execution_count": 42,
   "id": "a1122a3f",
   "metadata": {},
   "outputs": [
    {
     "data": {
      "text/plain": [
       "<AxesSubplot:xlabel='fakultas'>"
      ]
     },
     "execution_count": 42,
     "metadata": {},
     "output_type": "execute_result"
    },
    {
     "data": {
      "image/png": "[encoded data removed]",
      "text/plain": [
       "<Figure size 432x288 with 1 Axes>"
      ]
     },
     "metadata": {
      "needs_background": "light"
     },
     "output_type": "display_data"
    }
   ],
   "source": [
    "df_groups1 = df3.groupby(['fakultas'])[['scopus_h_index', 'googlescholar_h_index']].mean()\n",
    "df_groups1.plot(kind='bar')"
   ]
  },
  {
   "cell_type": "markdown",
   "id": "03d83867",
   "metadata": {},
   "source": [
    "### Membandingkan rata-rata atribut sinta_3yr_score dan sinta_score di tiap fakultas"
   ]
  },
  {
   "cell_type": "code",
   "execution_count": 43,
   "id": "55318b99",
   "metadata": {
    "scrolled": true
   },
   "outputs": [
    {
     "data": {
      "text/plain": [
       "<AxesSubplot:xlabel='fakultas'>"
      ]
     },
     "execution_count": 43,
     "metadata": {},
     "output_type": "execute_result"
    },
    {
     "data": {
      "image/png": "[encoded data removed]",
      "text/plain": [
       "<Figure size 432x288 with 1 Axes>"
      ]
     },
     "metadata": {
      "needs_background": "light"
     },
     "output_type": "display_data"
    }
   ],
   "source": [
    "df_groups1 = df3.groupby(['fakultas'])[['sinta_3yr_score', 'sinta_score']].mean()\n",
    "df_groups1.plot(kind='bar')"
   ]
  },
  {
   "cell_type": "markdown",
   "id": "523b8f6f",
   "metadata": {},
   "source": [
    "### Menampilkan tahun lahir di tiap golongan berdasarkan pendidikan terakhirnya"
   ]
  },
  {
   "cell_type": "code",
   "execution_count": 44,
   "id": "0895907b",
   "metadata": {
    "scrolled": true
   },
   "outputs": [
    {
     "data": {
      "text/plain": [
       "<seaborn.axisgrid.FacetGrid at 0x17fbcc13640>"
      ]
     },
     "execution_count": 44,
     "metadata": {},
     "output_type": "execute_result"
    },
    {
     "data": {
      "image/png": "[encoded data removed]",
      "text/plain": [
       "<Figure size 827.75x720 with 1 Axes>"
      ]
     },
     "metadata": {
      "needs_background": "light"
     },
     "output_type": "display_data"
    }
   ],
   "source": [
    "sns.catplot(x=\"gol\", y=\"thn_lahir\", hue=\"pendidikan_terakhir\", data=df3, height=10)"
   ]
  },
  {
   "cell_type": "code",
   "execution_count": 4,
   "id": "54fd353d",
   "metadata": {},
   "outputs": [
    {
     "data": {
      "text/plain": [
       "<function seaborn.distributions.distplot(a=None, bins=None, hist=True, kde=True, rug=False, fit=None, hist_kws=None, kde_kws=None, rug_kws=None, fit_kws=None, color=None, vertical=False, norm_hist=False, axlabel=None, label=None, ax=None, x=None)>"
      ]
     },
     "execution_count": 4,
     "metadata": {},
     "output_type": "execute_result"
    }
   ],
   "source": []
  },
  {
   "cell_type": "code",
   "execution_count": null,
   "id": "4566b3a6",
   "metadata": {},
   "outputs": [],
   "source": []
  }
 ],
 "metadata": {
  "kernelspec": {
   "display_name": "Python 3 (ipykernel)",
   "language": "python",
   "name": "python3"
  },
  "language_info": {
   "codemirror_mode": {
    "name": "ipython",
    "version": 3
   },
   "file_extension": ".py",
   "mimetype": "text/x-python",
   "name": "python",
   "nbconvert_exporter": "python",
   "pygments_lexer": "ipython3",
   "version": "3.9.15"
  }
 },
 "nbformat": 4,
 "nbformat_minor": 5
}
